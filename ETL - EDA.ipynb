{
 "cells": [
  {
   "cell_type": "code",
   "execution_count": 447,
   "metadata": {},
   "outputs": [],
   "source": [
    "import pandas as pd\n",
    "import numpy as np\n",
    "from datetime import time\n",
    "from datetime import datetime\n",
    "import ast\n",
    "import os\n",
    "\n",
    "import funciones_auxiliares as fa"
   ]
  },
  {
   "cell_type": "markdown",
   "metadata": {},
   "source": [
    "# Carga de archivos"
   ]
  },
  {
   "cell_type": "code",
   "execution_count": 448,
   "metadata": {},
   "outputs": [],
   "source": [
    "df_hechos = pd.read_excel('datasets\\homicidios.xlsx', sheet_name='HECHOS')\n",
    "df_victimas = pd.read_excel('datasets\\homicidios.xlsx', sheet_name='VICTIMAS')\n",
    "df_victimas2 = pd.read_excel('datasets\\lesiones.xlsx', sheet_name='VICTIMAS')"
   ]
  },
  {
   "cell_type": "markdown",
   "metadata": {},
   "source": [
    "# Exploración de datasets"
   ]
  },
  {
   "cell_type": "markdown",
   "metadata": {},
   "source": [
    "### Hechos"
   ]
  },
  {
   "cell_type": "code",
   "execution_count": 449,
   "metadata": {},
   "outputs": [
    {
     "name": "stdout",
     "output_type": "stream",
     "text": [
      "(696, 21)\n"
     ]
    },
    {
     "data": {
      "text/html": [
       "<div>\n",
       "<style scoped>\n",
       "    .dataframe tbody tr th:only-of-type {\n",
       "        vertical-align: middle;\n",
       "    }\n",
       "\n",
       "    .dataframe tbody tr th {\n",
       "        vertical-align: top;\n",
       "    }\n",
       "\n",
       "    .dataframe thead th {\n",
       "        text-align: right;\n",
       "    }\n",
       "</style>\n",
       "<table border=\"1\" class=\"dataframe\">\n",
       "  <thead>\n",
       "    <tr style=\"text-align: right;\">\n",
       "      <th></th>\n",
       "      <th>ID</th>\n",
       "      <th>N_VICTIMAS</th>\n",
       "      <th>FECHA</th>\n",
       "      <th>AAAA</th>\n",
       "      <th>MM</th>\n",
       "      <th>DD</th>\n",
       "      <th>HORA</th>\n",
       "      <th>HH</th>\n",
       "      <th>LUGAR_DEL_HECHO</th>\n",
       "      <th>TIPO_DE_CALLE</th>\n",
       "      <th>...</th>\n",
       "      <th>Altura</th>\n",
       "      <th>Cruce</th>\n",
       "      <th>Dirección Normalizada</th>\n",
       "      <th>COMUNA</th>\n",
       "      <th>XY (CABA)</th>\n",
       "      <th>pos x</th>\n",
       "      <th>pos y</th>\n",
       "      <th>PARTICIPANTES</th>\n",
       "      <th>VICTIMA</th>\n",
       "      <th>ACUSADO</th>\n",
       "    </tr>\n",
       "  </thead>\n",
       "  <tbody>\n",
       "    <tr>\n",
       "      <th>0</th>\n",
       "      <td>2016-0001</td>\n",
       "      <td>1</td>\n",
       "      <td>2016-01-01</td>\n",
       "      <td>2016</td>\n",
       "      <td>1</td>\n",
       "      <td>1</td>\n",
       "      <td>04:00:00</td>\n",
       "      <td>4</td>\n",
       "      <td>AV PIEDRA BUENA Y AV FERNANDEZ DE LA CRUZ</td>\n",
       "      <td>AVENIDA</td>\n",
       "      <td>...</td>\n",
       "      <td>NaN</td>\n",
       "      <td>FERNANDEZ DE LA CRUZ, F., GRAL. AV.</td>\n",
       "      <td>PIEDRA BUENA AV. y FERNANDEZ DE LA CRUZ, F., G...</td>\n",
       "      <td>8</td>\n",
       "      <td>Point (98896.78238426 93532.43437792)</td>\n",
       "      <td>-58.47533969</td>\n",
       "      <td>-34.68757022</td>\n",
       "      <td>MOTO-AUTO</td>\n",
       "      <td>MOTO</td>\n",
       "      <td>AUTO</td>\n",
       "    </tr>\n",
       "    <tr>\n",
       "      <th>1</th>\n",
       "      <td>2016-0002</td>\n",
       "      <td>1</td>\n",
       "      <td>2016-01-02</td>\n",
       "      <td>2016</td>\n",
       "      <td>1</td>\n",
       "      <td>2</td>\n",
       "      <td>01:15:00</td>\n",
       "      <td>1</td>\n",
       "      <td>AV GRAL PAZ  Y AV DE LOS CORRALES</td>\n",
       "      <td>GRAL PAZ</td>\n",
       "      <td>...</td>\n",
       "      <td>NaN</td>\n",
       "      <td>DE LOS CORRALES AV.</td>\n",
       "      <td>PAZ, GRAL. AV. y DE LOS CORRALES AV.</td>\n",
       "      <td>9</td>\n",
       "      <td>Point (95832.05571093 95505.41641999)</td>\n",
       "      <td>-58.50877521</td>\n",
       "      <td>-34.66977709</td>\n",
       "      <td>AUTO-PASAJEROS</td>\n",
       "      <td>AUTO</td>\n",
       "      <td>PASAJEROS</td>\n",
       "    </tr>\n",
       "  </tbody>\n",
       "</table>\n",
       "<p>2 rows × 21 columns</p>\n",
       "</div>"
      ],
      "text/plain": [
       "          ID  N_VICTIMAS      FECHA  AAAA  MM  DD      HORA HH  \\\n",
       "0  2016-0001           1 2016-01-01  2016   1   1  04:00:00  4   \n",
       "1  2016-0002           1 2016-01-02  2016   1   2  01:15:00  1   \n",
       "\n",
       "                             LUGAR_DEL_HECHO TIPO_DE_CALLE  ... Altura  \\\n",
       "0  AV PIEDRA BUENA Y AV FERNANDEZ DE LA CRUZ       AVENIDA  ...    NaN   \n",
       "1          AV GRAL PAZ  Y AV DE LOS CORRALES      GRAL PAZ  ...    NaN   \n",
       "\n",
       "                                 Cruce  \\\n",
       "0  FERNANDEZ DE LA CRUZ, F., GRAL. AV.   \n",
       "1                  DE LOS CORRALES AV.   \n",
       "\n",
       "                               Dirección Normalizada COMUNA  \\\n",
       "0  PIEDRA BUENA AV. y FERNANDEZ DE LA CRUZ, F., G...      8   \n",
       "1               PAZ, GRAL. AV. y DE LOS CORRALES AV.      9   \n",
       "\n",
       "                               XY (CABA)         pos x         pos y  \\\n",
       "0  Point (98896.78238426 93532.43437792)  -58.47533969  -34.68757022   \n",
       "1  Point (95832.05571093 95505.41641999)  -58.50877521  -34.66977709   \n",
       "\n",
       "    PARTICIPANTES VICTIMA    ACUSADO  \n",
       "0       MOTO-AUTO    MOTO       AUTO  \n",
       "1  AUTO-PASAJEROS    AUTO  PASAJEROS  \n",
       "\n",
       "[2 rows x 21 columns]"
      ]
     },
     "execution_count": 449,
     "metadata": {},
     "output_type": "execute_result"
    }
   ],
   "source": [
    "print(df_hechos.shape)\n",
    "df_hechos.head(2)\n"
   ]
  },
  {
   "cell_type": "markdown",
   "metadata": {},
   "source": [
    "### Victimas"
   ]
  },
  {
   "cell_type": "code",
   "execution_count": 450,
   "metadata": {},
   "outputs": [
    {
     "name": "stdout",
     "output_type": "stream",
     "text": [
      "(717, 10)\n"
     ]
    },
    {
     "data": {
      "text/html": [
       "<div>\n",
       "<style scoped>\n",
       "    .dataframe tbody tr th:only-of-type {\n",
       "        vertical-align: middle;\n",
       "    }\n",
       "\n",
       "    .dataframe tbody tr th {\n",
       "        vertical-align: top;\n",
       "    }\n",
       "\n",
       "    .dataframe thead th {\n",
       "        text-align: right;\n",
       "    }\n",
       "</style>\n",
       "<table border=\"1\" class=\"dataframe\">\n",
       "  <thead>\n",
       "    <tr style=\"text-align: right;\">\n",
       "      <th></th>\n",
       "      <th>ID_hecho</th>\n",
       "      <th>FECHA</th>\n",
       "      <th>AAAA</th>\n",
       "      <th>MM</th>\n",
       "      <th>DD</th>\n",
       "      <th>ROL</th>\n",
       "      <th>VICTIMA</th>\n",
       "      <th>SEXO</th>\n",
       "      <th>EDAD</th>\n",
       "      <th>FECHA_FALLECIMIENTO</th>\n",
       "    </tr>\n",
       "  </thead>\n",
       "  <tbody>\n",
       "    <tr>\n",
       "      <th>0</th>\n",
       "      <td>2016-0001</td>\n",
       "      <td>2016-01-01</td>\n",
       "      <td>2016</td>\n",
       "      <td>1</td>\n",
       "      <td>1</td>\n",
       "      <td>CONDUCTOR</td>\n",
       "      <td>MOTO</td>\n",
       "      <td>MASCULINO</td>\n",
       "      <td>19</td>\n",
       "      <td>2016-01-01 00:00:00</td>\n",
       "    </tr>\n",
       "    <tr>\n",
       "      <th>1</th>\n",
       "      <td>2016-0002</td>\n",
       "      <td>2016-01-02</td>\n",
       "      <td>2016</td>\n",
       "      <td>1</td>\n",
       "      <td>2</td>\n",
       "      <td>CONDUCTOR</td>\n",
       "      <td>AUTO</td>\n",
       "      <td>MASCULINO</td>\n",
       "      <td>70</td>\n",
       "      <td>2016-01-02 00:00:00</td>\n",
       "    </tr>\n",
       "  </tbody>\n",
       "</table>\n",
       "</div>"
      ],
      "text/plain": [
       "    ID_hecho      FECHA  AAAA  MM  DD        ROL VICTIMA       SEXO EDAD  \\\n",
       "0  2016-0001 2016-01-01  2016   1   1  CONDUCTOR    MOTO  MASCULINO   19   \n",
       "1  2016-0002 2016-01-02  2016   1   2  CONDUCTOR    AUTO  MASCULINO   70   \n",
       "\n",
       "   FECHA_FALLECIMIENTO  \n",
       "0  2016-01-01 00:00:00  \n",
       "1  2016-01-02 00:00:00  "
      ]
     },
     "execution_count": 450,
     "metadata": {},
     "output_type": "execute_result"
    }
   ],
   "source": [
    "print(df_victimas.shape)\n",
    "df_victimas.head(2)"
   ]
  },
  {
   "cell_type": "markdown",
   "metadata": {},
   "source": [
    "### Victimas 2"
   ]
  },
  {
   "cell_type": "code",
   "execution_count": 451,
   "metadata": {},
   "outputs": [
    {
     "name": "stdout",
     "output_type": "stream",
     "text": [
      "(27605, 9)\n"
     ]
    },
    {
     "data": {
      "text/html": [
       "<div>\n",
       "<style scoped>\n",
       "    .dataframe tbody tr th:only-of-type {\n",
       "        vertical-align: middle;\n",
       "    }\n",
       "\n",
       "    .dataframe tbody tr th {\n",
       "        vertical-align: top;\n",
       "    }\n",
       "\n",
       "    .dataframe thead th {\n",
       "        text-align: right;\n",
       "    }\n",
       "</style>\n",
       "<table border=\"1\" class=\"dataframe\">\n",
       "  <thead>\n",
       "    <tr style=\"text-align: right;\">\n",
       "      <th></th>\n",
       "      <th>ID hecho</th>\n",
       "      <th>AAA</th>\n",
       "      <th>MM</th>\n",
       "      <th>DD</th>\n",
       "      <th>FECHA</th>\n",
       "      <th>VEHICULO_VICTIMA</th>\n",
       "      <th>SEXO</th>\n",
       "      <th>EDAD_VICTIMA</th>\n",
       "      <th>GRAVEDAD</th>\n",
       "    </tr>\n",
       "  </thead>\n",
       "  <tbody>\n",
       "    <tr>\n",
       "      <th>0</th>\n",
       "      <td>LC-2019-0000053</td>\n",
       "      <td>2019</td>\n",
       "      <td>1</td>\n",
       "      <td>1</td>\n",
       "      <td>2019-01-01</td>\n",
       "      <td>sd</td>\n",
       "      <td>Varon</td>\n",
       "      <td>57</td>\n",
       "      <td>SD</td>\n",
       "    </tr>\n",
       "    <tr>\n",
       "      <th>1</th>\n",
       "      <td>LC-2019-0000063</td>\n",
       "      <td>2019</td>\n",
       "      <td>1</td>\n",
       "      <td>1</td>\n",
       "      <td>2019-01-01</td>\n",
       "      <td>sd</td>\n",
       "      <td>SD</td>\n",
       "      <td>SD</td>\n",
       "      <td>SD</td>\n",
       "    </tr>\n",
       "  </tbody>\n",
       "</table>\n",
       "</div>"
      ],
      "text/plain": [
       "          ID hecho   AAA  MM  DD     FECHA  VEHICULO_VICTIMA   SEXO  \\\n",
       "0  LC-2019-0000053  2019   1   1 2019-01-01               sd  Varon   \n",
       "1  LC-2019-0000063  2019   1   1 2019-01-01               sd     SD   \n",
       "\n",
       "  EDAD_VICTIMA GRAVEDAD  \n",
       "0           57       SD  \n",
       "1           SD       SD  "
      ]
     },
     "execution_count": 451,
     "metadata": {},
     "output_type": "execute_result"
    }
   ],
   "source": [
    "print(df_victimas2.shape)\n",
    "df_victimas2.head(2)"
   ]
  },
  {
   "cell_type": "markdown",
   "metadata": {},
   "source": [
    "# Creación de dataframes y limpieza general"
   ]
  },
  {
   "cell_type": "markdown",
   "metadata": {},
   "source": [
    "**df_hechos** y **df_vistimas** pueden unirse por **ID** y **ID_hecho** <br>\n",
    "\n",
    "Se verifico previamente que las columnas compartidas por ambos, tienen los mismos datos por lo que se borran antes del merge"
   ]
  },
  {
   "cell_type": "code",
   "execution_count": 452,
   "metadata": {},
   "outputs": [
    {
     "name": "stdout",
     "output_type": "stream",
     "text": [
      "(717, 25)\n"
     ]
    },
    {
     "data": {
      "text/html": [
       "<div>\n",
       "<style scoped>\n",
       "    .dataframe tbody tr th:only-of-type {\n",
       "        vertical-align: middle;\n",
       "    }\n",
       "\n",
       "    .dataframe tbody tr th {\n",
       "        vertical-align: top;\n",
       "    }\n",
       "\n",
       "    .dataframe thead th {\n",
       "        text-align: right;\n",
       "    }\n",
       "</style>\n",
       "<table border=\"1\" class=\"dataframe\">\n",
       "  <thead>\n",
       "    <tr style=\"text-align: right;\">\n",
       "      <th></th>\n",
       "      <th>ID</th>\n",
       "      <th>N_VICTIMAS</th>\n",
       "      <th>FECHA</th>\n",
       "      <th>AAAA</th>\n",
       "      <th>MM</th>\n",
       "      <th>DD</th>\n",
       "      <th>HORA</th>\n",
       "      <th>HH</th>\n",
       "      <th>LUGAR_DEL_HECHO</th>\n",
       "      <th>TIPO_DE_CALLE</th>\n",
       "      <th>...</th>\n",
       "      <th>XY (CABA)</th>\n",
       "      <th>pos x</th>\n",
       "      <th>pos y</th>\n",
       "      <th>PARTICIPANTES</th>\n",
       "      <th>VICTIMA</th>\n",
       "      <th>ACUSADO</th>\n",
       "      <th>ROL</th>\n",
       "      <th>SEXO</th>\n",
       "      <th>EDAD</th>\n",
       "      <th>FECHA_FALLECIMIENTO</th>\n",
       "    </tr>\n",
       "  </thead>\n",
       "  <tbody>\n",
       "    <tr>\n",
       "      <th>0</th>\n",
       "      <td>2016-0001</td>\n",
       "      <td>1</td>\n",
       "      <td>2016-01-01</td>\n",
       "      <td>2016</td>\n",
       "      <td>1</td>\n",
       "      <td>1</td>\n",
       "      <td>04:00:00</td>\n",
       "      <td>4</td>\n",
       "      <td>AV PIEDRA BUENA Y AV FERNANDEZ DE LA CRUZ</td>\n",
       "      <td>AVENIDA</td>\n",
       "      <td>...</td>\n",
       "      <td>Point (98896.78238426 93532.43437792)</td>\n",
       "      <td>-58.47533969</td>\n",
       "      <td>-34.68757022</td>\n",
       "      <td>MOTO-AUTO</td>\n",
       "      <td>MOTO</td>\n",
       "      <td>AUTO</td>\n",
       "      <td>CONDUCTOR</td>\n",
       "      <td>MASCULINO</td>\n",
       "      <td>19</td>\n",
       "      <td>2016-01-01 00:00:00</td>\n",
       "    </tr>\n",
       "    <tr>\n",
       "      <th>1</th>\n",
       "      <td>2016-0002</td>\n",
       "      <td>1</td>\n",
       "      <td>2016-01-02</td>\n",
       "      <td>2016</td>\n",
       "      <td>1</td>\n",
       "      <td>2</td>\n",
       "      <td>01:15:00</td>\n",
       "      <td>1</td>\n",
       "      <td>AV GRAL PAZ  Y AV DE LOS CORRALES</td>\n",
       "      <td>GRAL PAZ</td>\n",
       "      <td>...</td>\n",
       "      <td>Point (95832.05571093 95505.41641999)</td>\n",
       "      <td>-58.50877521</td>\n",
       "      <td>-34.66977709</td>\n",
       "      <td>AUTO-PASAJEROS</td>\n",
       "      <td>AUTO</td>\n",
       "      <td>PASAJEROS</td>\n",
       "      <td>CONDUCTOR</td>\n",
       "      <td>MASCULINO</td>\n",
       "      <td>70</td>\n",
       "      <td>2016-01-02 00:00:00</td>\n",
       "    </tr>\n",
       "  </tbody>\n",
       "</table>\n",
       "<p>2 rows × 25 columns</p>\n",
       "</div>"
      ],
      "text/plain": [
       "          ID  N_VICTIMAS      FECHA  AAAA  MM  DD      HORA HH  \\\n",
       "0  2016-0001           1 2016-01-01  2016   1   1  04:00:00  4   \n",
       "1  2016-0002           1 2016-01-02  2016   1   2  01:15:00  1   \n",
       "\n",
       "                             LUGAR_DEL_HECHO TIPO_DE_CALLE  ...  \\\n",
       "0  AV PIEDRA BUENA Y AV FERNANDEZ DE LA CRUZ       AVENIDA  ...   \n",
       "1          AV GRAL PAZ  Y AV DE LOS CORRALES      GRAL PAZ  ...   \n",
       "\n",
       "                               XY (CABA)         pos x         pos y  \\\n",
       "0  Point (98896.78238426 93532.43437792)  -58.47533969  -34.68757022   \n",
       "1  Point (95832.05571093 95505.41641999)  -58.50877521  -34.66977709   \n",
       "\n",
       "    PARTICIPANTES  VICTIMA    ACUSADO        ROL       SEXO EDAD  \\\n",
       "0       MOTO-AUTO     MOTO       AUTO  CONDUCTOR  MASCULINO   19   \n",
       "1  AUTO-PASAJEROS     AUTO  PASAJEROS  CONDUCTOR  MASCULINO   70   \n",
       "\n",
       "   FECHA_FALLECIMIENTO  \n",
       "0  2016-01-01 00:00:00  \n",
       "1  2016-01-02 00:00:00  \n",
       "\n",
       "[2 rows x 25 columns]"
      ]
     },
     "execution_count": 452,
     "metadata": {},
     "output_type": "execute_result"
    }
   ],
   "source": [
    "#Se borran las columnas que comparten ambos dataframe\n",
    "df_victimas.drop(['FECHA','AAAA','MM','DD','VICTIMA'], axis=1, inplace=True)\n",
    "#Se unen df_hechos y df_victimas a travez del id\n",
    "df_homicidios = pd.merge(df_hechos,df_victimas, how='inner', left_on='ID', right_on='ID_hecho')\n",
    "#borra la columna id_hecho, que es igual a id\n",
    "df_homicidios.drop(['ID_hecho'], axis=1, inplace=True)\n",
    "#resetea los indices\n",
    "df_homicidios.reset_index(drop=True,inplace=True)\n",
    "#Numero de filas y columnas\n",
    "print(df_homicidios.shape)\n",
    "df_homicidios.head(2)"
   ]
  },
  {
   "cell_type": "markdown",
   "metadata": {},
   "source": [
    "Renombrar las columnas"
   ]
  },
  {
   "cell_type": "code",
   "execution_count": 453,
   "metadata": {},
   "outputs": [],
   "source": [
    "# Se coloca la primera en mayúscula\n",
    "df_homicidios.columns = [x.capitalize() for x in df_homicidios.columns]\n",
    "# Se reemplazan los guiones por espacios\n",
    "df_homicidios.columns = df_homicidios.columns.str.replace('_', ' ')\n",
    "# Se renombran algunas columnas\n",
    "df_homicidios = df_homicidios.rename(columns={'N victimas': 'Cantidad victimas',\n",
    "                                              'Aaaa':'Anio',\n",
    "                                              'Mm':'Mes',\n",
    "                                              'Dd':'Dia',\n",
    "                                              'Hh':'Hora entera',\n",
    "                                              'Dirección normalizada':'Direccion normalizada',\n",
    "                                              'Xy (caba)':'XY (CABA)'})\n",
    "                                            \n",
    "                                                      "
   ]
  },
  {
   "cell_type": "code",
   "execution_count": 454,
   "metadata": {},
   "outputs": [
    {
     "data": {
      "text/html": [
       "<div>\n",
       "<style scoped>\n",
       "    .dataframe tbody tr th:only-of-type {\n",
       "        vertical-align: middle;\n",
       "    }\n",
       "\n",
       "    .dataframe tbody tr th {\n",
       "        vertical-align: top;\n",
       "    }\n",
       "\n",
       "    .dataframe thead th {\n",
       "        text-align: right;\n",
       "    }\n",
       "</style>\n",
       "<table border=\"1\" class=\"dataframe\">\n",
       "  <thead>\n",
       "    <tr style=\"text-align: right;\">\n",
       "      <th></th>\n",
       "      <th>Columna</th>\n",
       "      <th>Tipo_datos</th>\n",
       "      <th>%_nulos</th>\n",
       "      <th>Nulos</th>\n",
       "      <th>Largo</th>\n",
       "    </tr>\n",
       "  </thead>\n",
       "  <tbody>\n",
       "    <tr>\n",
       "      <th>0</th>\n",
       "      <td>Id</td>\n",
       "      <td>[str]</td>\n",
       "      <td>0.000000</td>\n",
       "      <td>0</td>\n",
       "      <td>[9]</td>\n",
       "    </tr>\n",
       "    <tr>\n",
       "      <th>1</th>\n",
       "      <td>Cantidad victimas</td>\n",
       "      <td>[int]</td>\n",
       "      <td>0.000000</td>\n",
       "      <td>0</td>\n",
       "      <td>[1]</td>\n",
       "    </tr>\n",
       "    <tr>\n",
       "      <th>2</th>\n",
       "      <td>Fecha</td>\n",
       "      <td>[Timestamp]</td>\n",
       "      <td>0.000000</td>\n",
       "      <td>0</td>\n",
       "      <td>[19]</td>\n",
       "    </tr>\n",
       "    <tr>\n",
       "      <th>3</th>\n",
       "      <td>Anio</td>\n",
       "      <td>[int]</td>\n",
       "      <td>0.000000</td>\n",
       "      <td>0</td>\n",
       "      <td>[4]</td>\n",
       "    </tr>\n",
       "    <tr>\n",
       "      <th>4</th>\n",
       "      <td>Mes</td>\n",
       "      <td>[int]</td>\n",
       "      <td>0.000000</td>\n",
       "      <td>0</td>\n",
       "      <td>[1, 2]</td>\n",
       "    </tr>\n",
       "    <tr>\n",
       "      <th>5</th>\n",
       "      <td>Dia</td>\n",
       "      <td>[int]</td>\n",
       "      <td>0.000000</td>\n",
       "      <td>0</td>\n",
       "      <td>[1, 2]</td>\n",
       "    </tr>\n",
       "    <tr>\n",
       "      <th>6</th>\n",
       "      <td>Hora</td>\n",
       "      <td>[time, str, datetime]</td>\n",
       "      <td>0.000000</td>\n",
       "      <td>0</td>\n",
       "      <td>[8, 19, 2]</td>\n",
       "    </tr>\n",
       "    <tr>\n",
       "      <th>7</th>\n",
       "      <td>Hora entera</td>\n",
       "      <td>[int, str]</td>\n",
       "      <td>0.000000</td>\n",
       "      <td>0</td>\n",
       "      <td>[1, 2]</td>\n",
       "    </tr>\n",
       "    <tr>\n",
       "      <th>8</th>\n",
       "      <td>Lugar del hecho</td>\n",
       "      <td>[str]</td>\n",
       "      <td>0.000000</td>\n",
       "      <td>0</td>\n",
       "      <td>[41, 33, 18, 37, 30, 28, 35, 34, 26, 52, 32, 5...</td>\n",
       "    </tr>\n",
       "    <tr>\n",
       "      <th>9</th>\n",
       "      <td>Tipo de calle</td>\n",
       "      <td>[str]</td>\n",
       "      <td>0.000000</td>\n",
       "      <td>0</td>\n",
       "      <td>[7, 8, 5, 9]</td>\n",
       "    </tr>\n",
       "    <tr>\n",
       "      <th>10</th>\n",
       "      <td>Calle</td>\n",
       "      <td>[str, float]</td>\n",
       "      <td>0.139470</td>\n",
       "      <td>1</td>\n",
       "      <td>[16, 14, 12, 17, 6, 26, 27, 15, 21, 8, 11, 20,...</td>\n",
       "    </tr>\n",
       "    <tr>\n",
       "      <th>11</th>\n",
       "      <td>Altura</td>\n",
       "      <td>[float]</td>\n",
       "      <td>81.450488</td>\n",
       "      <td>584</td>\n",
       "      <td>[3, 6, 5, 4, 7]</td>\n",
       "    </tr>\n",
       "    <tr>\n",
       "      <th>12</th>\n",
       "      <td>Cruce</td>\n",
       "      <td>[str, float]</td>\n",
       "      <td>24.686192</td>\n",
       "      <td>177</td>\n",
       "      <td>[35, 19, 3, 24, 23, 12, 20, 21, 4, 16, 33, 11,...</td>\n",
       "    </tr>\n",
       "    <tr>\n",
       "      <th>13</th>\n",
       "      <td>Direccion normalizada</td>\n",
       "      <td>[str, float]</td>\n",
       "      <td>1.255230</td>\n",
       "      <td>9</td>\n",
       "      <td>[54, 36, 19, 41, 39, 32, 29, 33, 34, 57, 12, 2...</td>\n",
       "    </tr>\n",
       "    <tr>\n",
       "      <th>14</th>\n",
       "      <td>Comuna</td>\n",
       "      <td>[int]</td>\n",
       "      <td>0.000000</td>\n",
       "      <td>0</td>\n",
       "      <td>[1, 2]</td>\n",
       "    </tr>\n",
       "    <tr>\n",
       "      <th>15</th>\n",
       "      <td>XY (CABA)</td>\n",
       "      <td>[str]</td>\n",
       "      <td>0.000000</td>\n",
       "      <td>0</td>\n",
       "      <td>[37, 38, 39, 11]</td>\n",
       "    </tr>\n",
       "    <tr>\n",
       "      <th>16</th>\n",
       "      <td>Pos x</td>\n",
       "      <td>[str]</td>\n",
       "      <td>0.000000</td>\n",
       "      <td>0</td>\n",
       "      <td>[12, 18, 1]</td>\n",
       "    </tr>\n",
       "    <tr>\n",
       "      <th>17</th>\n",
       "      <td>Pos y</td>\n",
       "      <td>[str]</td>\n",
       "      <td>0.000000</td>\n",
       "      <td>0</td>\n",
       "      <td>[12, 18, 1]</td>\n",
       "    </tr>\n",
       "    <tr>\n",
       "      <th>18</th>\n",
       "      <td>Participantes</td>\n",
       "      <td>[str]</td>\n",
       "      <td>0.000000</td>\n",
       "      <td>0</td>\n",
       "      <td>[9, 14, 7, 16, 11, 13, 8, 5, 10, 19, 15, 18, 12]</td>\n",
       "    </tr>\n",
       "    <tr>\n",
       "      <th>19</th>\n",
       "      <td>Victima</td>\n",
       "      <td>[str]</td>\n",
       "      <td>0.000000</td>\n",
       "      <td>0</td>\n",
       "      <td>[4, 6, 2, 9, 5, 11]</td>\n",
       "    </tr>\n",
       "    <tr>\n",
       "      <th>20</th>\n",
       "      <td>Acusado</td>\n",
       "      <td>[str]</td>\n",
       "      <td>0.000000</td>\n",
       "      <td>0</td>\n",
       "      <td>[4, 9, 2, 11, 6, 8]</td>\n",
       "    </tr>\n",
       "    <tr>\n",
       "      <th>21</th>\n",
       "      <td>Rol</td>\n",
       "      <td>[str]</td>\n",
       "      <td>0.000000</td>\n",
       "      <td>0</td>\n",
       "      <td>[9, 20, 6, 2, 8]</td>\n",
       "    </tr>\n",
       "    <tr>\n",
       "      <th>22</th>\n",
       "      <td>Sexo</td>\n",
       "      <td>[str]</td>\n",
       "      <td>0.000000</td>\n",
       "      <td>0</td>\n",
       "      <td>[9, 8, 2]</td>\n",
       "    </tr>\n",
       "    <tr>\n",
       "      <th>23</th>\n",
       "      <td>Edad</td>\n",
       "      <td>[int, str]</td>\n",
       "      <td>0.000000</td>\n",
       "      <td>0</td>\n",
       "      <td>[2, 1]</td>\n",
       "    </tr>\n",
       "    <tr>\n",
       "      <th>24</th>\n",
       "      <td>Fecha fallecimiento</td>\n",
       "      <td>[datetime, str]</td>\n",
       "      <td>0.000000</td>\n",
       "      <td>0</td>\n",
       "      <td>[19, 2, 10]</td>\n",
       "    </tr>\n",
       "  </tbody>\n",
       "</table>\n",
       "</div>"
      ],
      "text/plain": [
       "                  Columna             Tipo_datos    %_nulos  Nulos  \\\n",
       "0                      Id                  [str]   0.000000      0   \n",
       "1       Cantidad victimas                  [int]   0.000000      0   \n",
       "2                   Fecha            [Timestamp]   0.000000      0   \n",
       "3                    Anio                  [int]   0.000000      0   \n",
       "4                     Mes                  [int]   0.000000      0   \n",
       "5                     Dia                  [int]   0.000000      0   \n",
       "6                    Hora  [time, str, datetime]   0.000000      0   \n",
       "7             Hora entera             [int, str]   0.000000      0   \n",
       "8         Lugar del hecho                  [str]   0.000000      0   \n",
       "9           Tipo de calle                  [str]   0.000000      0   \n",
       "10                  Calle           [str, float]   0.139470      1   \n",
       "11                 Altura                [float]  81.450488    584   \n",
       "12                  Cruce           [str, float]  24.686192    177   \n",
       "13  Direccion normalizada           [str, float]   1.255230      9   \n",
       "14                 Comuna                  [int]   0.000000      0   \n",
       "15              XY (CABA)                  [str]   0.000000      0   \n",
       "16                  Pos x                  [str]   0.000000      0   \n",
       "17                  Pos y                  [str]   0.000000      0   \n",
       "18          Participantes                  [str]   0.000000      0   \n",
       "19                Victima                  [str]   0.000000      0   \n",
       "20                Acusado                  [str]   0.000000      0   \n",
       "21                    Rol                  [str]   0.000000      0   \n",
       "22                   Sexo                  [str]   0.000000      0   \n",
       "23                   Edad             [int, str]   0.000000      0   \n",
       "24    Fecha fallecimiento        [datetime, str]   0.000000      0   \n",
       "\n",
       "                                                Largo  \n",
       "0                                                 [9]  \n",
       "1                                                 [1]  \n",
       "2                                                [19]  \n",
       "3                                                 [4]  \n",
       "4                                              [1, 2]  \n",
       "5                                              [1, 2]  \n",
       "6                                          [8, 19, 2]  \n",
       "7                                              [1, 2]  \n",
       "8   [41, 33, 18, 37, 30, 28, 35, 34, 26, 52, 32, 5...  \n",
       "9                                        [7, 8, 5, 9]  \n",
       "10  [16, 14, 12, 17, 6, 26, 27, 15, 21, 8, 11, 20,...  \n",
       "11                                    [3, 6, 5, 4, 7]  \n",
       "12  [35, 19, 3, 24, 23, 12, 20, 21, 4, 16, 33, 11,...  \n",
       "13  [54, 36, 19, 41, 39, 32, 29, 33, 34, 57, 12, 2...  \n",
       "14                                             [1, 2]  \n",
       "15                                   [37, 38, 39, 11]  \n",
       "16                                        [12, 18, 1]  \n",
       "17                                        [12, 18, 1]  \n",
       "18   [9, 14, 7, 16, 11, 13, 8, 5, 10, 19, 15, 18, 12]  \n",
       "19                                [4, 6, 2, 9, 5, 11]  \n",
       "20                                [4, 9, 2, 11, 6, 8]  \n",
       "21                                   [9, 20, 6, 2, 8]  \n",
       "22                                          [9, 8, 2]  \n",
       "23                                             [2, 1]  \n",
       "24                                        [19, 2, 10]  "
      ]
     },
     "execution_count": 454,
     "metadata": {},
     "output_type": "execute_result"
    }
   ],
   "source": [
    "fa.tipo_datos(df_homicidios)"
   ]
  },
  {
   "cell_type": "markdown",
   "metadata": {},
   "source": [
    "\n",
    "### Analisis de cada uno de las columnas \n",
    "En particular todas de las columnas con varios tipos de datos y con gran numero de nulos"
   ]
  },
  {
   "cell_type": "markdown",
   "metadata": {},
   "source": [
    "#### Id"
   ]
  },
  {
   "cell_type": "code",
   "execution_count": 455,
   "metadata": {},
   "outputs": [
    {
     "name": "stdout",
     "output_type": "stream",
     "text": [
      "Hay este número de valores repetidos: 21\n"
     ]
    }
   ],
   "source": [
    "print('Hay este número de valores repetidos:', df_homicidios[df_homicidios['Id'].duplicated()].shape[0] )\n",
    "\n"
   ]
  },
  {
   "cell_type": "code",
   "execution_count": 456,
   "metadata": {},
   "outputs": [],
   "source": [
    "#Borado de ID duplicados\n",
    "df_homicidios.drop_duplicates(['Id'], inplace=True)"
   ]
  },
  {
   "cell_type": "markdown",
   "metadata": {},
   "source": [
    "#### Cantidad victimas"
   ]
  },
  {
   "cell_type": "code",
   "execution_count": 457,
   "metadata": {},
   "outputs": [
    {
     "name": "stdout",
     "output_type": "stream",
     "text": [
      "Distintos valores de la columna N_victimas [1, 2, 3]\n",
      "Porcentaje de 1: 97.13\n",
      "Porcentaje de 2: 2.73\n",
      "Porcentaje de 3: 0.14\n"
     ]
    }
   ],
   "source": [
    "print('Distintos valores de la columna N_victimas', list(np.unique(df_homicidios['Cantidad victimas'])))\n",
    "print('Porcentaje de 1:', (df_homicidios[df_homicidios['Cantidad victimas']==1].count()[0]*100/len(df_homicidios)).round(2))\n",
    "print('Porcentaje de 2:', (df_homicidios[df_homicidios['Cantidad victimas']==2].count()[0]*100/len(df_homicidios)).round(2))\n",
    "print('Porcentaje de 3:', (df_homicidios[df_homicidios['Cantidad victimas']==3].count()[0]*100/len(df_homicidios)).round(2))"
   ]
  },
  {
   "cell_type": "markdown",
   "metadata": {},
   "source": [
    "Es una columna util pero no parece ofrecer mucha informacion"
   ]
  },
  {
   "cell_type": "markdown",
   "metadata": {},
   "source": [
    "#### Fecha"
   ]
  },
  {
   "cell_type": "code",
   "execution_count": 458,
   "metadata": {},
   "outputs": [
    {
     "name": "stdout",
     "output_type": "stream",
     "text": [
      "Numero de Valores mas cortos o mas largos: 0\n"
     ]
    }
   ],
   "source": [
    "#Cuenta los calors de distinto tipo al normal\n",
    "count=0\n",
    "for i,k in  enumerate(df_homicidios['Fecha']):\n",
    "    if len(str(k)) != 19:\n",
    "    #if type(k) != type(df_homicidios['Fecha'][0]):   \n",
    "        count +=1\n",
    "print('Numero de Valores mas cortos o mas largos:', count)    "
   ]
  },
  {
   "cell_type": "code",
   "execution_count": 459,
   "metadata": {},
   "outputs": [
    {
     "name": "stdout",
     "output_type": "stream",
     "text": [
      "Numero de Valores distintos del tipo normal de fecha: 0\n"
     ]
    }
   ],
   "source": [
    "#Cuenta los calors de distinto tipo al normal\n",
    "count=0\n",
    "for i,k in  enumerate(df_homicidios['Fecha']):\n",
    "   \n",
    "    if type(k) != type(df_homicidios['Fecha'][0]):   \n",
    "        count +=1\n",
    "print('Numero de Valores distintos del tipo normal de fecha:', count)    "
   ]
  },
  {
   "cell_type": "markdown",
   "metadata": {},
   "source": [
    "#### Hora"
   ]
  },
  {
   "cell_type": "code",
   "execution_count": 460,
   "metadata": {},
   "outputs": [
    {
     "data": {
      "text/plain": [
       "Hora\n",
       "<class 'datetime.time'>        608\n",
       "<class 'str'>                   85\n",
       "<class 'datetime.datetime'>      3\n",
       "Name: count, dtype: int64"
      ]
     },
     "execution_count": 460,
     "metadata": {},
     "output_type": "execute_result"
    }
   ],
   "source": [
    "#Cantidad de valores por tipo de dato en la columna 'hora'\n",
    "df_homicidios['Hora'].apply(type).value_counts()"
   ]
  },
  {
   "cell_type": "code",
   "execution_count": 461,
   "metadata": {},
   "outputs": [
    {
     "name": "stdout",
     "output_type": "stream",
     "text": [
      "Indice: 439 Valor: 1900-01-02 00:00:00 Tipo de dato: <class 'datetime.datetime'>\n",
      "Indice: 441 Valor: 1900-01-14 07:12:00 Tipo de dato: <class 'datetime.datetime'>\n",
      "Indice: 496 Valor: 1900-01-04 18:40:00 Tipo de dato: <class 'datetime.datetime'>\n",
      "Indice: 518 Valor: SD Tipo de dato: <class 'str'>\n",
      "Numero de Valores mas cortos o mas largos: 4\n",
      "Indice de los valores distintos [439, 441, 496, 518]\n"
     ]
    }
   ],
   "source": [
    "#Cuenta los valores de distinto tipo al normal\n",
    "count=0\n",
    "lista=[]\n",
    "for i,k in  enumerate(df_homicidios['Hora']):\n",
    "    if len(str(k)) != 8:\n",
    "       count +=1\n",
    "       lista.append(i)\n",
    "       print('Indice:',i,'Valor:',k, 'Tipo de dato:', type(k))\n",
    "       \n",
    "print('Numero de Valores mas cortos o mas largos:', count)   \n",
    "print('Indice de los valores distintos', lista) "
   ]
  },
  {
   "cell_type": "markdown",
   "metadata": {},
   "source": [
    "Existen 4 valores que no corresponde con el tipo de datos en hora"
   ]
  },
  {
   "cell_type": "code",
   "execution_count": 462,
   "metadata": {},
   "outputs": [
    {
     "name": "stdout",
     "output_type": "stream",
     "text": [
      "Indice: 439 Hora 1900-01-02 00:00:00\n",
      "Indice: 441 Hora 1900-01-14 07:12:00\n",
      "Indice: 496 Hora 1900-01-04 18:40:00\n",
      "Indice: 518 Hora SD\n"
     ]
    }
   ],
   "source": [
    "#Indices y valores de la horas\n",
    "for i,k in enumerate(lista):\n",
    "    print('Indice:',k ,'Hora',df_homicidios['Hora'].iloc[k])"
   ]
  },
  {
   "cell_type": "code",
   "execution_count": 463,
   "metadata": {},
   "outputs": [
    {
     "name": "stdout",
     "output_type": "stream",
     "text": [
      "La hora mas común es: 09:00:00\n"
     ]
    }
   ],
   "source": [
    "#Corrige los valores alterados de las horas\n",
    "\n",
    "#Cambia los tipo de datos de hora a uno solo\n",
    "df_homicidios['Hora'] = df_homicidios['Hora'].apply(lambda x: fa.convertir_a_time(x))\n",
    "\n",
    "#Llena el string faltante con el valor de la moda\n",
    "# calcula la hora mas común\n",
    "hora_moda = df_homicidios['Hora'].mode().iloc[0]\n",
    "print(f'La hora mas común es: {hora_moda}')\n",
    "# Se reemplaza el valor None por la hora más común\n",
    "df_homicidios['Hora'].fillna(hora_moda, inplace=True)\n"
   ]
  },
  {
   "cell_type": "markdown",
   "metadata": {},
   "source": [
    "#### Hora entera"
   ]
  },
  {
   "cell_type": "code",
   "execution_count": 464,
   "metadata": {},
   "outputs": [
    {
     "name": "stdout",
     "output_type": "stream",
     "text": [
      "Numero de string: 1 En el indice [518]\n"
     ]
    }
   ],
   "source": [
    "#revisa si hay string y da el indice donde estan\n",
    "indice=[]\n",
    "count=0\n",
    "for i,k in enumerate(df_homicidios['Hora entera']):\n",
    "    if type(k) == str:\n",
    "        indice.append(i)\n",
    "        count +=1\n",
    "print('Numero de string:',count, 'En el indice',indice)        "
   ]
  },
  {
   "cell_type": "code",
   "execution_count": 465,
   "metadata": {},
   "outputs": [],
   "source": [
    "#Al ser un solo valor se puede corregir de esta manera\n",
    "df_homicidios['Hora entera'] = df_homicidios['Hora entera'].replace('SD',9)"
   ]
  },
  {
   "cell_type": "markdown",
   "metadata": {},
   "source": [
    "#### Calle"
   ]
  },
  {
   "cell_type": "code",
   "execution_count": 466,
   "metadata": {},
   "outputs": [
    {
     "name": "stdout",
     "output_type": "stream",
     "text": [
      "Numero de float: 1 En el indice [119]\n"
     ]
    }
   ],
   "source": [
    "#revisa si hay float y da el indice donde estan\n",
    "indice=[]\n",
    "count=0\n",
    "for i,k in enumerate(df_homicidios['Calle']):\n",
    "    if type(k) == float:\n",
    "        indice.append(i)\n",
    "        count +=1\n",
    "print('Numero de float:',count, 'En el indice',indice)    "
   ]
  },
  {
   "cell_type": "code",
   "execution_count": 467,
   "metadata": {},
   "outputs": [],
   "source": [
    "df_homicidios['Calle'].fillna('SD',inplace=True)"
   ]
  },
  {
   "cell_type": "markdown",
   "metadata": {},
   "source": [
    "#### Altura"
   ]
  },
  {
   "cell_type": "code",
   "execution_count": 468,
   "metadata": {},
   "outputs": [],
   "source": [
    "#df_homicidios['Altura'] = df_homicidios['Altura'].astype('int')"
   ]
  },
  {
   "cell_type": "code",
   "execution_count": 469,
   "metadata": {},
   "outputs": [],
   "source": [
    "df_homicidios['Altura'].fillna(0,inplace=True)\n",
    "df_homicidios['Altura'] = df_homicidios['Altura'].astype('int')"
   ]
  },
  {
   "cell_type": "markdown",
   "metadata": {},
   "source": [
    "#### Cruce"
   ]
  },
  {
   "cell_type": "code",
   "execution_count": 470,
   "metadata": {},
   "outputs": [],
   "source": [
    "df_homicidios['Cruce'].fillna('No', inplace=True)"
   ]
  },
  {
   "cell_type": "code",
   "execution_count": 471,
   "metadata": {},
   "outputs": [
    {
     "name": "stdout",
     "output_type": "stream",
     "text": [
      "Numero de float: 0 En el indice []\n"
     ]
    }
   ],
   "source": [
    "#revisa si hay float y da el indice donde estan\n",
    "indice=[]\n",
    "count=0\n",
    "for i,k in enumerate(df_homicidios['Cruce']):\n",
    "    if type(k) == float:\n",
    "        indice.append(i)\n",
    "        count +=1\n",
    "print('Numero de float:',count, 'En el indice',indice)    "
   ]
  },
  {
   "cell_type": "markdown",
   "metadata": {},
   "source": [
    "#### Direccion normalizada"
   ]
  },
  {
   "cell_type": "code",
   "execution_count": 472,
   "metadata": {},
   "outputs": [
    {
     "name": "stdout",
     "output_type": "stream",
     "text": [
      "Numero de float: 8 En el indice [38, 106, 119, 180, 181, 313, 546, 621]\n"
     ]
    }
   ],
   "source": [
    "#revisa si hay float y da el indice donde estan\n",
    "indice=[]\n",
    "count=0\n",
    "for i,k in enumerate(df_homicidios['Direccion normalizada']):\n",
    "    if type(k) == float:\n",
    "        indice.append(i)\n",
    "        count +=1\n",
    "print('Numero de float:',count, 'En el indice',indice)    "
   ]
  },
  {
   "cell_type": "code",
   "execution_count": 473,
   "metadata": {},
   "outputs": [
    {
     "name": "stdout",
     "output_type": "stream",
     "text": [
      "Indice: 38 Hora nan\n",
      "Indice: 106 Hora nan\n",
      "Indice: 119 Hora nan\n",
      "Indice: 180 Hora nan\n",
      "Indice: 181 Hora nan\n",
      "Indice: 313 Hora nan\n",
      "Indice: 546 Hora nan\n",
      "Indice: 621 Hora nan\n"
     ]
    }
   ],
   "source": [
    "#Indices y valores de la direccion\n",
    "for i,k in enumerate(indice):\n",
    "    print('Indice:',k ,'Hora',df_homicidios['Direccion normalizada'].iloc[k])"
   ]
  },
  {
   "cell_type": "code",
   "execution_count": 474,
   "metadata": {},
   "outputs": [],
   "source": [
    "df_homicidios['Direccion normalizada'].fillna('SD', inplace=True)"
   ]
  },
  {
   "cell_type": "markdown",
   "metadata": {},
   "source": [
    "#### Edad"
   ]
  },
  {
   "cell_type": "code",
   "execution_count": 475,
   "metadata": {},
   "outputs": [
    {
     "name": "stdout",
     "output_type": "stream",
     "text": [
      "Numero de float: 51 En el indice [32, 34, 35, 38, 54, 62, 71, 88, 92, 106, 117, 119, 136, 139, 140, 162, 171, 176, 218, 265, 267, 288, 314, 345, 353, 357, 362, 375, 404, 427, 428, 436, 439, 443, 445, 451, 460, 479, 487, 510, 511, 530, 534, 537, 545, 554, 560, 610, 618, 626, 677]\n"
     ]
    }
   ],
   "source": [
    "#revisa si hay  y str el indice donde estan\n",
    "indice=[]\n",
    "count=0\n",
    "for i,k in enumerate(df_homicidios['Edad']):\n",
    "    if type(k) == str:\n",
    "        indice.append(i)\n",
    "        count +=1\n",
    "print('Numero de float:',count, 'En el indice',indice)    "
   ]
  },
  {
   "cell_type": "code",
   "execution_count": 476,
   "metadata": {},
   "outputs": [
    {
     "name": "stdout",
     "output_type": "stream",
     "text": [
      "Indice: 32 Edad: SD\n",
      "Indice: 34 Edad: SD\n",
      "Indice: 35 Edad: SD\n",
      "Indice: 38 Edad: SD\n",
      "Indice: 54 Edad: SD\n",
      "Indice: 62 Edad: SD\n",
      "Indice: 71 Edad: SD\n",
      "Indice: 88 Edad: SD\n",
      "Indice: 92 Edad: SD\n",
      "Indice: 106 Edad: SD\n",
      "Indice: 117 Edad: SD\n",
      "Indice: 119 Edad: SD\n",
      "Indice: 136 Edad: SD\n",
      "Indice: 139 Edad: SD\n",
      "Indice: 140 Edad: SD\n",
      "Indice: 162 Edad: SD\n",
      "Indice: 171 Edad: SD\n",
      "Indice: 176 Edad: SD\n",
      "Indice: 218 Edad: SD\n",
      "Indice: 265 Edad: SD\n",
      "Indice: 267 Edad: SD\n",
      "Indice: 288 Edad: SD\n",
      "Indice: 314 Edad: SD\n",
      "Indice: 345 Edad: SD\n",
      "Indice: 353 Edad: SD\n",
      "Indice: 357 Edad: SD\n",
      "Indice: 362 Edad: SD\n",
      "Indice: 375 Edad: SD\n",
      "Indice: 404 Edad: SD\n",
      "Indice: 427 Edad: SD\n",
      "Indice: 428 Edad: SD\n",
      "Indice: 436 Edad: SD\n",
      "Indice: 439 Edad: SD\n",
      "Indice: 443 Edad: SD\n",
      "Indice: 445 Edad: SD\n",
      "Indice: 451 Edad: SD\n",
      "Indice: 460 Edad: SD\n",
      "Indice: 479 Edad: SD\n",
      "Indice: 487 Edad: SD\n",
      "Indice: 510 Edad: SD\n",
      "Indice: 511 Edad: SD\n",
      "Indice: 530 Edad: SD\n",
      "Indice: 534 Edad: SD\n",
      "Indice: 537 Edad: SD\n",
      "Indice: 545 Edad: SD\n",
      "Indice: 554 Edad: SD\n",
      "Indice: 560 Edad: SD\n",
      "Indice: 610 Edad: SD\n",
      "Indice: 618 Edad: SD\n",
      "Indice: 626 Edad: SD\n",
      "Indice: 677 Edad: SD\n"
     ]
    }
   ],
   "source": [
    "#Indices y valores de la edad\n",
    "for i,k in enumerate(indice):\n",
    "    print('Indice:',k ,'Edad:',df_homicidios['Edad'].iloc[k])"
   ]
  },
  {
   "cell_type": "markdown",
   "metadata": {},
   "source": [
    "### Fecha de fallecimiento"
   ]
  },
  {
   "cell_type": "code",
   "execution_count": 477,
   "metadata": {},
   "outputs": [
    {
     "name": "stdout",
     "output_type": "stream",
     "text": [
      "Numero de float: 68 En el indice [3, 16, 19, 22, 32, 34, 35, 38, 45, 47, 48, 50, 51, 54, 55, 56, 57, 58, 62, 71, 73, 74, 76, 77, 80, 81, 83, 86, 88, 90, 92, 94, 95, 96, 97, 98, 101, 106, 107, 108, 109, 110, 112, 113, 115, 117, 119, 122, 123, 125, 126, 130, 131, 132, 136, 138, 139, 140, 141, 142, 143, 175, 214, 234, 237, 244, 269, 436]\n"
     ]
    }
   ],
   "source": [
    "#revisa si hay float y da el indice donde estan\n",
    "df_homicidios['Fecha fallecimiento'] = df_homicidios['Fecha fallecimiento'].replace('26/03/2019','SD')\n",
    "indice=[]\n",
    "count=0\n",
    "for i,k in enumerate(df_homicidios['Fecha fallecimiento']):\n",
    "    if type(k) == str:\n",
    "        indice.append(i)\n",
    "        count +=1\n",
    "print('Numero de float:',count, 'En el indice',indice)    "
   ]
  },
  {
   "cell_type": "code",
   "execution_count": 478,
   "metadata": {},
   "outputs": [
    {
     "name": "stdout",
     "output_type": "stream",
     "text": [
      "Indice: 3 Fecha: SD\n",
      "Indice: 16 Fecha: SD\n",
      "Indice: 19 Fecha: SD\n",
      "Indice: 22 Fecha: SD\n",
      "Indice: 32 Fecha: SD\n",
      "Indice: 34 Fecha: SD\n",
      "Indice: 35 Fecha: SD\n",
      "Indice: 38 Fecha: SD\n",
      "Indice: 45 Fecha: SD\n",
      "Indice: 47 Fecha: SD\n",
      "Indice: 48 Fecha: SD\n",
      "Indice: 50 Fecha: SD\n",
      "Indice: 51 Fecha: SD\n",
      "Indice: 54 Fecha: SD\n",
      "Indice: 55 Fecha: SD\n",
      "Indice: 56 Fecha: SD\n",
      "Indice: 57 Fecha: SD\n",
      "Indice: 58 Fecha: SD\n",
      "Indice: 62 Fecha: SD\n",
      "Indice: 71 Fecha: SD\n",
      "Indice: 73 Fecha: SD\n",
      "Indice: 74 Fecha: SD\n",
      "Indice: 76 Fecha: SD\n",
      "Indice: 77 Fecha: SD\n",
      "Indice: 80 Fecha: SD\n",
      "Indice: 81 Fecha: SD\n",
      "Indice: 83 Fecha: SD\n",
      "Indice: 86 Fecha: SD\n",
      "Indice: 88 Fecha: SD\n",
      "Indice: 90 Fecha: SD\n",
      "Indice: 92 Fecha: SD\n",
      "Indice: 94 Fecha: SD\n",
      "Indice: 95 Fecha: SD\n",
      "Indice: 96 Fecha: SD\n",
      "Indice: 97 Fecha: SD\n",
      "Indice: 98 Fecha: SD\n",
      "Indice: 101 Fecha: SD\n",
      "Indice: 106 Fecha: SD\n",
      "Indice: 107 Fecha: SD\n",
      "Indice: 108 Fecha: SD\n",
      "Indice: 109 Fecha: SD\n",
      "Indice: 110 Fecha: SD\n",
      "Indice: 112 Fecha: SD\n",
      "Indice: 113 Fecha: SD\n",
      "Indice: 115 Fecha: SD\n",
      "Indice: 117 Fecha: SD\n",
      "Indice: 119 Fecha: SD\n",
      "Indice: 122 Fecha: SD\n",
      "Indice: 123 Fecha: SD\n",
      "Indice: 125 Fecha: SD\n",
      "Indice: 126 Fecha: SD\n",
      "Indice: 130 Fecha: SD\n",
      "Indice: 131 Fecha: SD\n",
      "Indice: 132 Fecha: SD\n",
      "Indice: 136 Fecha: SD\n",
      "Indice: 138 Fecha: SD\n",
      "Indice: 139 Fecha: SD\n",
      "Indice: 140 Fecha: SD\n",
      "Indice: 141 Fecha: SD\n",
      "Indice: 142 Fecha: SD\n",
      "Indice: 143 Fecha: SD\n",
      "Indice: 175 Fecha: SD\n",
      "Indice: 214 Fecha: SD\n",
      "Indice: 234 Fecha: SD\n",
      "Indice: 237 Fecha: SD\n",
      "Indice: 244 Fecha: SD\n",
      "Indice: 269 Fecha: SD\n",
      "Indice: 436 Fecha: SD\n"
     ]
    }
   ],
   "source": [
    "#Indices y valores de la edad\n",
    "for i,k in enumerate(indice):\n",
    "    print('Indice:',k ,'Fecha:',df_homicidios['Fecha fallecimiento'].iloc[k])"
   ]
  },
  {
   "cell_type": "markdown",
   "metadata": {},
   "source": [
    "#### Dia de la Semana\n",
    "Saca el dia de la semana de la fecha y la coloca en una columna"
   ]
  },
  {
   "cell_type": "code",
   "execution_count": 479,
   "metadata": {},
   "outputs": [],
   "source": [
    "#Convertir la cadena a un objeto datetime\n",
    "lista=[]\n",
    "for i,k in enumerate(df_homicidios['Fecha']):\n",
    "    fecha_objeto = datetime.strptime(str(k), '%Y-%m-%d %H:%M:%S')\n",
    "#Obtener el nombre del día de la semana\n",
    "    nombre_dia_semana = fecha_objeto.strftime('%A')\n",
    "    lista.append(nombre_dia_semana)\n",
    "#agrega la columna dia de la semana\n",
    "df_homicidios['Dia semana'] = lista\n",
    "#Cambia los dias de la semana a espanol\n",
    "df_homicidios['Dia semana'] = df_homicidios['Dia semana'].replace('Monday','Lunes')\n",
    "df_homicidios['Dia semana'] = df_homicidios['Dia semana'].replace('Tuesday','Martes')\n",
    "df_homicidios['Dia semana'] = df_homicidios['Dia semana'].replace('Wednesday','Miercoles')\t\n",
    "df_homicidios['Dia semana'] = df_homicidios['Dia semana'].replace('Thursday','Jueves')\n",
    "df_homicidios['Dia semana'] = df_homicidios['Dia semana'].replace('Friday','Viernes')\t\n",
    "df_homicidios['Dia semana'] = df_homicidios['Dia semana'].replace('Saturday','Sabado')\n",
    "df_homicidios['Dia semana'] = df_homicidios['Dia semana'].replace('Sunday','Domingo')\n",
    " "
   ]
  },
  {
   "cell_type": "markdown",
   "metadata": {},
   "source": [
    "# Carga de dataframe"
   ]
  },
  {
   "cell_type": "markdown",
   "metadata": {},
   "source": [
    "Verificamos que las columnas esten bien"
   ]
  },
  {
   "cell_type": "code",
   "execution_count": 480,
   "metadata": {},
   "outputs": [
    {
     "data": {
      "text/html": [
       "<div>\n",
       "<style scoped>\n",
       "    .dataframe tbody tr th:only-of-type {\n",
       "        vertical-align: middle;\n",
       "    }\n",
       "\n",
       "    .dataframe tbody tr th {\n",
       "        vertical-align: top;\n",
       "    }\n",
       "\n",
       "    .dataframe thead th {\n",
       "        text-align: right;\n",
       "    }\n",
       "</style>\n",
       "<table border=\"1\" class=\"dataframe\">\n",
       "  <thead>\n",
       "    <tr style=\"text-align: right;\">\n",
       "      <th></th>\n",
       "      <th>Columna</th>\n",
       "      <th>Tipo_datos</th>\n",
       "      <th>%_nulos</th>\n",
       "      <th>Nulos</th>\n",
       "      <th>Largo</th>\n",
       "    </tr>\n",
       "  </thead>\n",
       "  <tbody>\n",
       "    <tr>\n",
       "      <th>0</th>\n",
       "      <td>Id</td>\n",
       "      <td>[str]</td>\n",
       "      <td>0.0</td>\n",
       "      <td>0</td>\n",
       "      <td>[9]</td>\n",
       "    </tr>\n",
       "    <tr>\n",
       "      <th>1</th>\n",
       "      <td>Cantidad victimas</td>\n",
       "      <td>[int]</td>\n",
       "      <td>0.0</td>\n",
       "      <td>0</td>\n",
       "      <td>[1]</td>\n",
       "    </tr>\n",
       "    <tr>\n",
       "      <th>2</th>\n",
       "      <td>Fecha</td>\n",
       "      <td>[Timestamp]</td>\n",
       "      <td>0.0</td>\n",
       "      <td>0</td>\n",
       "      <td>[19]</td>\n",
       "    </tr>\n",
       "    <tr>\n",
       "      <th>3</th>\n",
       "      <td>Anio</td>\n",
       "      <td>[int]</td>\n",
       "      <td>0.0</td>\n",
       "      <td>0</td>\n",
       "      <td>[4]</td>\n",
       "    </tr>\n",
       "    <tr>\n",
       "      <th>4</th>\n",
       "      <td>Mes</td>\n",
       "      <td>[int]</td>\n",
       "      <td>0.0</td>\n",
       "      <td>0</td>\n",
       "      <td>[1, 2]</td>\n",
       "    </tr>\n",
       "    <tr>\n",
       "      <th>5</th>\n",
       "      <td>Dia</td>\n",
       "      <td>[int]</td>\n",
       "      <td>0.0</td>\n",
       "      <td>0</td>\n",
       "      <td>[1, 2]</td>\n",
       "    </tr>\n",
       "    <tr>\n",
       "      <th>6</th>\n",
       "      <td>Hora</td>\n",
       "      <td>[time]</td>\n",
       "      <td>0.0</td>\n",
       "      <td>0</td>\n",
       "      <td>[8]</td>\n",
       "    </tr>\n",
       "    <tr>\n",
       "      <th>7</th>\n",
       "      <td>Hora entera</td>\n",
       "      <td>[int]</td>\n",
       "      <td>0.0</td>\n",
       "      <td>0</td>\n",
       "      <td>[1, 2]</td>\n",
       "    </tr>\n",
       "    <tr>\n",
       "      <th>8</th>\n",
       "      <td>Lugar del hecho</td>\n",
       "      <td>[str]</td>\n",
       "      <td>0.0</td>\n",
       "      <td>0</td>\n",
       "      <td>[41, 33, 18, 37, 30, 28, 35, 34, 26, 52, 32, 5...</td>\n",
       "    </tr>\n",
       "    <tr>\n",
       "      <th>9</th>\n",
       "      <td>Tipo de calle</td>\n",
       "      <td>[str]</td>\n",
       "      <td>0.0</td>\n",
       "      <td>0</td>\n",
       "      <td>[7, 8, 5, 9]</td>\n",
       "    </tr>\n",
       "    <tr>\n",
       "      <th>10</th>\n",
       "      <td>Calle</td>\n",
       "      <td>[str]</td>\n",
       "      <td>0.0</td>\n",
       "      <td>0</td>\n",
       "      <td>[16, 14, 12, 17, 6, 26, 27, 15, 21, 8, 11, 20,...</td>\n",
       "    </tr>\n",
       "    <tr>\n",
       "      <th>11</th>\n",
       "      <td>Altura</td>\n",
       "      <td>[int]</td>\n",
       "      <td>0.0</td>\n",
       "      <td>0</td>\n",
       "      <td>[1, 4, 3, 2, 5]</td>\n",
       "    </tr>\n",
       "    <tr>\n",
       "      <th>12</th>\n",
       "      <td>Cruce</td>\n",
       "      <td>[str]</td>\n",
       "      <td>0.0</td>\n",
       "      <td>0</td>\n",
       "      <td>[35, 19, 2, 24, 23, 12, 20, 21, 4, 16, 33, 11,...</td>\n",
       "    </tr>\n",
       "    <tr>\n",
       "      <th>13</th>\n",
       "      <td>Direccion normalizada</td>\n",
       "      <td>[str]</td>\n",
       "      <td>0.0</td>\n",
       "      <td>0</td>\n",
       "      <td>[54, 36, 19, 41, 39, 32, 29, 33, 34, 57, 12, 2...</td>\n",
       "    </tr>\n",
       "    <tr>\n",
       "      <th>14</th>\n",
       "      <td>Comuna</td>\n",
       "      <td>[int]</td>\n",
       "      <td>0.0</td>\n",
       "      <td>0</td>\n",
       "      <td>[1, 2]</td>\n",
       "    </tr>\n",
       "    <tr>\n",
       "      <th>15</th>\n",
       "      <td>XY (CABA)</td>\n",
       "      <td>[str]</td>\n",
       "      <td>0.0</td>\n",
       "      <td>0</td>\n",
       "      <td>[37, 38, 39, 11]</td>\n",
       "    </tr>\n",
       "    <tr>\n",
       "      <th>16</th>\n",
       "      <td>Pos x</td>\n",
       "      <td>[str]</td>\n",
       "      <td>0.0</td>\n",
       "      <td>0</td>\n",
       "      <td>[12, 18, 1]</td>\n",
       "    </tr>\n",
       "    <tr>\n",
       "      <th>17</th>\n",
       "      <td>Pos y</td>\n",
       "      <td>[str]</td>\n",
       "      <td>0.0</td>\n",
       "      <td>0</td>\n",
       "      <td>[12, 18, 1]</td>\n",
       "    </tr>\n",
       "    <tr>\n",
       "      <th>18</th>\n",
       "      <td>Participantes</td>\n",
       "      <td>[str]</td>\n",
       "      <td>0.0</td>\n",
       "      <td>0</td>\n",
       "      <td>[9, 14, 7, 16, 11, 13, 8, 5, 10, 19, 15, 18, 12]</td>\n",
       "    </tr>\n",
       "    <tr>\n",
       "      <th>19</th>\n",
       "      <td>Victima</td>\n",
       "      <td>[str]</td>\n",
       "      <td>0.0</td>\n",
       "      <td>0</td>\n",
       "      <td>[4, 6, 2, 9, 5, 11]</td>\n",
       "    </tr>\n",
       "    <tr>\n",
       "      <th>20</th>\n",
       "      <td>Acusado</td>\n",
       "      <td>[str]</td>\n",
       "      <td>0.0</td>\n",
       "      <td>0</td>\n",
       "      <td>[4, 9, 2, 11, 6, 8]</td>\n",
       "    </tr>\n",
       "    <tr>\n",
       "      <th>21</th>\n",
       "      <td>Rol</td>\n",
       "      <td>[str]</td>\n",
       "      <td>0.0</td>\n",
       "      <td>0</td>\n",
       "      <td>[9, 20, 6, 2, 8]</td>\n",
       "    </tr>\n",
       "    <tr>\n",
       "      <th>22</th>\n",
       "      <td>Sexo</td>\n",
       "      <td>[str]</td>\n",
       "      <td>0.0</td>\n",
       "      <td>0</td>\n",
       "      <td>[9, 8, 2]</td>\n",
       "    </tr>\n",
       "    <tr>\n",
       "      <th>23</th>\n",
       "      <td>Edad</td>\n",
       "      <td>[int, str]</td>\n",
       "      <td>0.0</td>\n",
       "      <td>0</td>\n",
       "      <td>[2, 1]</td>\n",
       "    </tr>\n",
       "    <tr>\n",
       "      <th>24</th>\n",
       "      <td>Fecha fallecimiento</td>\n",
       "      <td>[datetime, str]</td>\n",
       "      <td>0.0</td>\n",
       "      <td>0</td>\n",
       "      <td>[19, 2]</td>\n",
       "    </tr>\n",
       "    <tr>\n",
       "      <th>25</th>\n",
       "      <td>Dia semana</td>\n",
       "      <td>[str]</td>\n",
       "      <td>0.0</td>\n",
       "      <td>0</td>\n",
       "      <td>[7, 6, 5, 9]</td>\n",
       "    </tr>\n",
       "  </tbody>\n",
       "</table>\n",
       "</div>"
      ],
      "text/plain": [
       "                  Columna       Tipo_datos  %_nulos  Nulos  \\\n",
       "0                      Id            [str]      0.0      0   \n",
       "1       Cantidad victimas            [int]      0.0      0   \n",
       "2                   Fecha      [Timestamp]      0.0      0   \n",
       "3                    Anio            [int]      0.0      0   \n",
       "4                     Mes            [int]      0.0      0   \n",
       "5                     Dia            [int]      0.0      0   \n",
       "6                    Hora           [time]      0.0      0   \n",
       "7             Hora entera            [int]      0.0      0   \n",
       "8         Lugar del hecho            [str]      0.0      0   \n",
       "9           Tipo de calle            [str]      0.0      0   \n",
       "10                  Calle            [str]      0.0      0   \n",
       "11                 Altura            [int]      0.0      0   \n",
       "12                  Cruce            [str]      0.0      0   \n",
       "13  Direccion normalizada            [str]      0.0      0   \n",
       "14                 Comuna            [int]      0.0      0   \n",
       "15              XY (CABA)            [str]      0.0      0   \n",
       "16                  Pos x            [str]      0.0      0   \n",
       "17                  Pos y            [str]      0.0      0   \n",
       "18          Participantes            [str]      0.0      0   \n",
       "19                Victima            [str]      0.0      0   \n",
       "20                Acusado            [str]      0.0      0   \n",
       "21                    Rol            [str]      0.0      0   \n",
       "22                   Sexo            [str]      0.0      0   \n",
       "23                   Edad       [int, str]      0.0      0   \n",
       "24    Fecha fallecimiento  [datetime, str]      0.0      0   \n",
       "25             Dia semana            [str]      0.0      0   \n",
       "\n",
       "                                                Largo  \n",
       "0                                                 [9]  \n",
       "1                                                 [1]  \n",
       "2                                                [19]  \n",
       "3                                                 [4]  \n",
       "4                                              [1, 2]  \n",
       "5                                              [1, 2]  \n",
       "6                                                 [8]  \n",
       "7                                              [1, 2]  \n",
       "8   [41, 33, 18, 37, 30, 28, 35, 34, 26, 52, 32, 5...  \n",
       "9                                        [7, 8, 5, 9]  \n",
       "10  [16, 14, 12, 17, 6, 26, 27, 15, 21, 8, 11, 20,...  \n",
       "11                                    [1, 4, 3, 2, 5]  \n",
       "12  [35, 19, 2, 24, 23, 12, 20, 21, 4, 16, 33, 11,...  \n",
       "13  [54, 36, 19, 41, 39, 32, 29, 33, 34, 57, 12, 2...  \n",
       "14                                             [1, 2]  \n",
       "15                                   [37, 38, 39, 11]  \n",
       "16                                        [12, 18, 1]  \n",
       "17                                        [12, 18, 1]  \n",
       "18   [9, 14, 7, 16, 11, 13, 8, 5, 10, 19, 15, 18, 12]  \n",
       "19                                [4, 6, 2, 9, 5, 11]  \n",
       "20                                [4, 9, 2, 11, 6, 8]  \n",
       "21                                   [9, 20, 6, 2, 8]  \n",
       "22                                          [9, 8, 2]  \n",
       "23                                             [2, 1]  \n",
       "24                                            [19, 2]  \n",
       "25                                       [7, 6, 5, 9]  "
      ]
     },
     "execution_count": 480,
     "metadata": {},
     "output_type": "execute_result"
    }
   ],
   "source": [
    "fa.tipo_datos(df_homicidios)"
   ]
  },
  {
   "cell_type": "code",
   "execution_count": 482,
   "metadata": {},
   "outputs": [],
   "source": [
    "#Se guardan los dataframes en archivos .csv\n",
    "df_homicidios.to_csv(os.path.join('dataframe','df_clean.csv'), index=False)"
   ]
  }
 ],
 "metadata": {
  "kernelspec": {
   "display_name": "Python 3",
   "language": "python",
   "name": "python3"
  },
  "language_info": {
   "codemirror_mode": {
    "name": "ipython",
    "version": 3
   },
   "file_extension": ".py",
   "mimetype": "text/x-python",
   "name": "python",
   "nbconvert_exporter": "python",
   "pygments_lexer": "ipython3",
   "version": "3.11.5"
  }
 },
 "nbformat": 4,
 "nbformat_minor": 2
}
